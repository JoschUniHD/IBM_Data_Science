{
 "cells": [
  {
   "cell_type": "markdown",
   "metadata": {},
   "source": [
    "# My Jupyter Notebook on IBM Watson Studio"
   ]
  },
  {
   "cell_type": "markdown",
   "metadata": {},
   "source": [
    "**Josch Hagedorn** <br>\n",
    "Physicist"
   ]
  },
  {
   "cell_type": "markdown",
   "metadata": {},
   "source": [
    "*I am interested in data science because it lets me apply a lot of the principles I learned in university to \"real-life\" problems.*"
   ]
  },
  {
   "cell_type": "markdown",
   "metadata": {},
   "source": [
    "### Using a for-loop I print every character of a string in a new line."
   ]
  },
  {
   "cell_type": "code",
   "execution_count": 1,
   "metadata": {},
   "outputs": [
    {
     "name": "stdout",
     "output_type": "stream",
     "text": [
      "M\n",
      "y\n",
      " \n",
      "n\n",
      "a\n",
      "m\n",
      "e\n",
      " \n",
      "i\n",
      "s\n",
      " \n",
      "J\n",
      "o\n",
      "s\n",
      "c\n",
      "h\n"
     ]
    }
   ],
   "source": [
    "string = 'My name is Josch'\n",
    "for letter in string:\n",
    "    print(letter)"
   ]
  },
  {
   "cell_type": "markdown",
   "metadata": {},
   "source": [
    "**Bulleted list**\n",
    "- this\n",
    "- is\n",
    "- a\n",
    "- list\n",
    "\n",
    "**Numbered list**\n",
    "1. this\n",
    "2. is\n",
    "3. also\n",
    "4. a\n",
    "5. list\n",
    "\n",
    "**Horizontal rule**\n",
    "***\n",
    "\n",
    "**This is the code from above:**\n",
    "```python\n",
    "string = 'My name is Josch'\n",
    "for letter in string:\n",
    "    print(letter)\n",
    "```"
   ]
  },
  {
   "cell_type": "code",
   "execution_count": null,
   "metadata": {},
   "outputs": [],
   "source": []
  }
 ],
 "metadata": {
  "kernelspec": {
   "display_name": "Python",
   "language": "python",
   "name": "conda-env-python-py"
  },
  "language_info": {
   "codemirror_mode": {
    "name": "ipython",
    "version": 3
   },
   "file_extension": ".py",
   "mimetype": "text/x-python",
   "name": "python",
   "nbconvert_exporter": "python",
   "pygments_lexer": "ipython3",
   "version": "3.7.12"
  }
 },
 "nbformat": 4,
 "nbformat_minor": 4
}
